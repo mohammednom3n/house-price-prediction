{
 "cells": [
  {
   "cell_type": "code",
   "execution_count": 1,
   "id": "a0709de3-8165-41c1-8c69-53df41ce5f4f",
   "metadata": {},
   "outputs": [],
   "source": [
    "import os, sys\n",
    "import numpy as np\n",
    "import pandas as pd"
   ]
  },
  {
   "cell_type": "code",
   "execution_count": 2,
   "id": "40e10b1a-e78b-432e-8948-fe1461f4ff11",
   "metadata": {},
   "outputs": [],
   "source": [
    "proj_root = os.path.abspath(\"..\")\n",
    "if proj_root not in sys.path:\n",
    "    sys.path.insert(0, proj_root)"
   ]
  },
  {
   "cell_type": "markdown",
   "id": "d1e928bf-ab33-4282-a627-63c8812b1568",
   "metadata": {},
   "source": [
    "Paths"
   ]
  },
  {
   "cell_type": "code",
   "execution_count": 3,
   "id": "c8cd1477-cd48-4ea1-9644-15bbf75b0a63",
   "metadata": {},
   "outputs": [],
   "source": [
    "RAW_DATA = os.path.join(\"..\",\"data\",\"raw\")\n",
    "PROCESSED_DATA = os.path.join(\"..\",\"data\",\"processed\")"
   ]
  },
  {
   "cell_type": "code",
   "execution_count": 4,
   "id": "6b2118b0-2377-4b83-acd0-1fb460e01a04",
   "metadata": {},
   "outputs": [],
   "source": [
    "train_path = os.path.join(RAW_DATA, \"train.csv\")\n",
    "test_path = os.path.join(RAW_DATA, \"test.csv\")"
   ]
  },
  {
   "cell_type": "markdown",
   "id": "48e7b991-2981-4e6f-a721-dc2fc9255650",
   "metadata": {},
   "source": [
    "Load data"
   ]
  },
  {
   "cell_type": "code",
   "execution_count": 5,
   "id": "7c55ca11-f667-4c15-9bfa-880ceb9cb8ec",
   "metadata": {},
   "outputs": [],
   "source": [
    "df_train = pd.read_csv(train_path)\n",
    "df_test = pd.read_csv(test_path)"
   ]
  },
  {
   "cell_type": "code",
   "execution_count": 6,
   "id": "0afb37f6-46db-4e32-aa2e-92d4bc5f46d3",
   "metadata": {},
   "outputs": [
    {
     "name": "stdout",
     "output_type": "stream",
     "text": [
      "train shape: (1460, 81)\n",
      "test shape: (1459, 80)\n"
     ]
    }
   ],
   "source": [
    "print(\"train shape:\", df_train.shape)\n",
    "print(\"test shape:\", df_test.shape)"
   ]
  },
  {
   "cell_type": "markdown",
   "id": "86f8c795-cc45-4c7c-b675-eb00c74ec97d",
   "metadata": {},
   "source": [
    "Check for missing values"
   ]
  },
  {
   "cell_type": "code",
   "execution_count": 7,
   "id": "75ca26fc-ccb2-423e-afa4-ddfcf7be9230",
   "metadata": {},
   "outputs": [
    {
     "data": {
      "text/html": [
       "<div>\n",
       "<style scoped>\n",
       "    .dataframe tbody tr th:only-of-type {\n",
       "        vertical-align: middle;\n",
       "    }\n",
       "\n",
       "    .dataframe tbody tr th {\n",
       "        vertical-align: top;\n",
       "    }\n",
       "\n",
       "    .dataframe thead th {\n",
       "        text-align: right;\n",
       "    }\n",
       "</style>\n",
       "<table border=\"1\" class=\"dataframe\">\n",
       "  <thead>\n",
       "    <tr style=\"text-align: right;\">\n",
       "      <th></th>\n",
       "      <th>Missing values</th>\n",
       "      <th>Percent</th>\n",
       "    </tr>\n",
       "  </thead>\n",
       "  <tbody>\n",
       "    <tr>\n",
       "      <th>PoolQC</th>\n",
       "      <td>1453</td>\n",
       "      <td>99.520548</td>\n",
       "    </tr>\n",
       "    <tr>\n",
       "      <th>MiscFeature</th>\n",
       "      <td>1406</td>\n",
       "      <td>96.301370</td>\n",
       "    </tr>\n",
       "    <tr>\n",
       "      <th>Alley</th>\n",
       "      <td>1369</td>\n",
       "      <td>93.767123</td>\n",
       "    </tr>\n",
       "    <tr>\n",
       "      <th>Fence</th>\n",
       "      <td>1179</td>\n",
       "      <td>80.753425</td>\n",
       "    </tr>\n",
       "    <tr>\n",
       "      <th>MasVnrType</th>\n",
       "      <td>872</td>\n",
       "      <td>59.726027</td>\n",
       "    </tr>\n",
       "    <tr>\n",
       "      <th>FireplaceQu</th>\n",
       "      <td>690</td>\n",
       "      <td>47.260274</td>\n",
       "    </tr>\n",
       "    <tr>\n",
       "      <th>LotFrontage</th>\n",
       "      <td>259</td>\n",
       "      <td>17.739726</td>\n",
       "    </tr>\n",
       "    <tr>\n",
       "      <th>GarageType</th>\n",
       "      <td>81</td>\n",
       "      <td>5.547945</td>\n",
       "    </tr>\n",
       "    <tr>\n",
       "      <th>GarageYrBlt</th>\n",
       "      <td>81</td>\n",
       "      <td>5.547945</td>\n",
       "    </tr>\n",
       "    <tr>\n",
       "      <th>GarageFinish</th>\n",
       "      <td>81</td>\n",
       "      <td>5.547945</td>\n",
       "    </tr>\n",
       "    <tr>\n",
       "      <th>GarageQual</th>\n",
       "      <td>81</td>\n",
       "      <td>5.547945</td>\n",
       "    </tr>\n",
       "    <tr>\n",
       "      <th>GarageCond</th>\n",
       "      <td>81</td>\n",
       "      <td>5.547945</td>\n",
       "    </tr>\n",
       "    <tr>\n",
       "      <th>BsmtExposure</th>\n",
       "      <td>38</td>\n",
       "      <td>2.602740</td>\n",
       "    </tr>\n",
       "    <tr>\n",
       "      <th>BsmtFinType2</th>\n",
       "      <td>38</td>\n",
       "      <td>2.602740</td>\n",
       "    </tr>\n",
       "    <tr>\n",
       "      <th>BsmtQual</th>\n",
       "      <td>37</td>\n",
       "      <td>2.534247</td>\n",
       "    </tr>\n",
       "    <tr>\n",
       "      <th>BsmtCond</th>\n",
       "      <td>37</td>\n",
       "      <td>2.534247</td>\n",
       "    </tr>\n",
       "    <tr>\n",
       "      <th>BsmtFinType1</th>\n",
       "      <td>37</td>\n",
       "      <td>2.534247</td>\n",
       "    </tr>\n",
       "    <tr>\n",
       "      <th>MasVnrArea</th>\n",
       "      <td>8</td>\n",
       "      <td>0.547945</td>\n",
       "    </tr>\n",
       "    <tr>\n",
       "      <th>Electrical</th>\n",
       "      <td>1</td>\n",
       "      <td>0.068493</td>\n",
       "    </tr>\n",
       "  </tbody>\n",
       "</table>\n",
       "</div>"
      ],
      "text/plain": [
       "              Missing values    Percent\n",
       "PoolQC                  1453  99.520548\n",
       "MiscFeature             1406  96.301370\n",
       "Alley                   1369  93.767123\n",
       "Fence                   1179  80.753425\n",
       "MasVnrType               872  59.726027\n",
       "FireplaceQu              690  47.260274\n",
       "LotFrontage              259  17.739726\n",
       "GarageType                81   5.547945\n",
       "GarageYrBlt               81   5.547945\n",
       "GarageFinish              81   5.547945\n",
       "GarageQual                81   5.547945\n",
       "GarageCond                81   5.547945\n",
       "BsmtExposure              38   2.602740\n",
       "BsmtFinType2              38   2.602740\n",
       "BsmtQual                  37   2.534247\n",
       "BsmtCond                  37   2.534247\n",
       "BsmtFinType1              37   2.534247\n",
       "MasVnrArea                 8   0.547945\n",
       "Electrical                 1   0.068493"
      ]
     },
     "execution_count": 7,
     "metadata": {},
     "output_type": "execute_result"
    }
   ],
   "source": [
    "missing = df_train.isnull().sum()\n",
    "missing = missing[missing>0].sort_values(ascending = False)\n",
    "missing_percent = (missing / len(df_train)) * 100\n",
    "missing_summary = pd.DataFrame({\"Missing values\":missing, \"Percent\": missing_percent})\n",
    "missing_summary"
   ]
  },
  {
   "cell_type": "markdown",
   "id": "1171a492-8a18-41ba-913a-a90dc276fd02",
   "metadata": {},
   "source": [
    "Drop columns with >50% missing values"
   ]
  },
  {
   "cell_type": "code",
   "execution_count": 8,
   "id": "5947ab54-8994-4853-b7e1-58d758ef1ad6",
   "metadata": {},
   "outputs": [
    {
     "name": "stdout",
     "output_type": "stream",
     "text": [
      "Dropped: ['Alley', 'MasVnrType', 'PoolQC', 'Fence', 'MiscFeature']\n",
      "Missing after (train): 0\n",
      "Missing after (test): 11\n"
     ]
    },
    {
     "name": "stderr",
     "output_type": "stream",
     "text": [
      "C:\\Users\\Mohammed\\OneDrive\\Desktop\\ML Engineer\\house-price-prediction\\src\\preprocess.py:101: FutureWarning: Downcasting behavior in `replace` is deprecated and will be removed in a future version. To retain the old behavior, explicitly call `result.infer_objects(copy=False)`. To opt-in to the future behavior, set `pd.set_option('future.no_silent_downcasting', True)`\n",
      "  df.loc[:, col] = df[col].replace(QUALITY_MAP).fillna(0).astype(int)\n",
      "C:\\Users\\Mohammed\\OneDrive\\Desktop\\ML Engineer\\house-price-prediction\\src\\preprocess.py:101: FutureWarning: Downcasting behavior in `replace` is deprecated and will be removed in a future version. To retain the old behavior, explicitly call `result.infer_objects(copy=False)`. To opt-in to the future behavior, set `pd.set_option('future.no_silent_downcasting', True)`\n",
      "  df.loc[:, col] = df[col].replace(QUALITY_MAP).fillna(0).astype(int)\n",
      "C:\\Users\\Mohammed\\OneDrive\\Desktop\\ML Engineer\\house-price-prediction\\src\\preprocess.py:101: FutureWarning: Downcasting behavior in `replace` is deprecated and will be removed in a future version. To retain the old behavior, explicitly call `result.infer_objects(copy=False)`. To opt-in to the future behavior, set `pd.set_option('future.no_silent_downcasting', True)`\n",
      "  df.loc[:, col] = df[col].replace(QUALITY_MAP).fillna(0).astype(int)\n",
      "C:\\Users\\Mohammed\\OneDrive\\Desktop\\ML Engineer\\house-price-prediction\\src\\preprocess.py:101: FutureWarning: Downcasting behavior in `replace` is deprecated and will be removed in a future version. To retain the old behavior, explicitly call `result.infer_objects(copy=False)`. To opt-in to the future behavior, set `pd.set_option('future.no_silent_downcasting', True)`\n",
      "  df.loc[:, col] = df[col].replace(QUALITY_MAP).fillna(0).astype(int)\n",
      "C:\\Users\\Mohammed\\OneDrive\\Desktop\\ML Engineer\\house-price-prediction\\src\\preprocess.py:101: FutureWarning: Downcasting behavior in `replace` is deprecated and will be removed in a future version. To retain the old behavior, explicitly call `result.infer_objects(copy=False)`. To opt-in to the future behavior, set `pd.set_option('future.no_silent_downcasting', True)`\n",
      "  df.loc[:, col] = df[col].replace(QUALITY_MAP).fillna(0).astype(int)\n",
      "C:\\Users\\Mohammed\\OneDrive\\Desktop\\ML Engineer\\house-price-prediction\\src\\preprocess.py:101: FutureWarning: Downcasting behavior in `replace` is deprecated and will be removed in a future version. To retain the old behavior, explicitly call `result.infer_objects(copy=False)`. To opt-in to the future behavior, set `pd.set_option('future.no_silent_downcasting', True)`\n",
      "  df.loc[:, col] = df[col].replace(QUALITY_MAP).fillna(0).astype(int)\n",
      "C:\\Users\\Mohammed\\OneDrive\\Desktop\\ML Engineer\\house-price-prediction\\src\\preprocess.py:101: FutureWarning: Downcasting behavior in `replace` is deprecated and will be removed in a future version. To retain the old behavior, explicitly call `result.infer_objects(copy=False)`. To opt-in to the future behavior, set `pd.set_option('future.no_silent_downcasting', True)`\n",
      "  df.loc[:, col] = df[col].replace(QUALITY_MAP).fillna(0).astype(int)\n",
      "C:\\Users\\Mohammed\\OneDrive\\Desktop\\ML Engineer\\house-price-prediction\\src\\preprocess.py:101: FutureWarning: Downcasting behavior in `replace` is deprecated and will be removed in a future version. To retain the old behavior, explicitly call `result.infer_objects(copy=False)`. To opt-in to the future behavior, set `pd.set_option('future.no_silent_downcasting', True)`\n",
      "  df.loc[:, col] = df[col].replace(QUALITY_MAP).fillna(0).astype(int)\n",
      "C:\\Users\\Mohammed\\OneDrive\\Desktop\\ML Engineer\\house-price-prediction\\src\\preprocess.py:101: FutureWarning: Downcasting behavior in `replace` is deprecated and will be removed in a future version. To retain the old behavior, explicitly call `result.infer_objects(copy=False)`. To opt-in to the future behavior, set `pd.set_option('future.no_silent_downcasting', True)`\n",
      "  df.loc[:, col] = df[col].replace(QUALITY_MAP).fillna(0).astype(int)\n",
      "C:\\Users\\Mohammed\\OneDrive\\Desktop\\ML Engineer\\house-price-prediction\\src\\preprocess.py:101: FutureWarning: Downcasting behavior in `replace` is deprecated and will be removed in a future version. To retain the old behavior, explicitly call `result.infer_objects(copy=False)`. To opt-in to the future behavior, set `pd.set_option('future.no_silent_downcasting', True)`\n",
      "  df.loc[:, col] = df[col].replace(QUALITY_MAP).fillna(0).astype(int)\n",
      "C:\\Users\\Mohammed\\OneDrive\\Desktop\\ML Engineer\\house-price-prediction\\src\\preprocess.py:101: FutureWarning: Downcasting behavior in `replace` is deprecated and will be removed in a future version. To retain the old behavior, explicitly call `result.infer_objects(copy=False)`. To opt-in to the future behavior, set `pd.set_option('future.no_silent_downcasting', True)`\n",
      "  df.loc[:, col] = df[col].replace(QUALITY_MAP).fillna(0).astype(int)\n",
      "C:\\Users\\Mohammed\\OneDrive\\Desktop\\ML Engineer\\house-price-prediction\\src\\preprocess.py:101: FutureWarning: Downcasting behavior in `replace` is deprecated and will be removed in a future version. To retain the old behavior, explicitly call `result.infer_objects(copy=False)`. To opt-in to the future behavior, set `pd.set_option('future.no_silent_downcasting', True)`\n",
      "  df.loc[:, col] = df[col].replace(QUALITY_MAP).fillna(0).astype(int)\n",
      "C:\\Users\\Mohammed\\OneDrive\\Desktop\\ML Engineer\\house-price-prediction\\src\\preprocess.py:101: FutureWarning: Downcasting behavior in `replace` is deprecated and will be removed in a future version. To retain the old behavior, explicitly call `result.infer_objects(copy=False)`. To opt-in to the future behavior, set `pd.set_option('future.no_silent_downcasting', True)`\n",
      "  df.loc[:, col] = df[col].replace(QUALITY_MAP).fillna(0).astype(int)\n",
      "C:\\Users\\Mohammed\\OneDrive\\Desktop\\ML Engineer\\house-price-prediction\\src\\preprocess.py:101: FutureWarning: Downcasting behavior in `replace` is deprecated and will be removed in a future version. To retain the old behavior, explicitly call `result.infer_objects(copy=False)`. To opt-in to the future behavior, set `pd.set_option('future.no_silent_downcasting', True)`\n",
      "  df.loc[:, col] = df[col].replace(QUALITY_MAP).fillna(0).astype(int)\n",
      "C:\\Users\\Mohammed\\OneDrive\\Desktop\\ML Engineer\\house-price-prediction\\src\\preprocess.py:101: FutureWarning: Downcasting behavior in `replace` is deprecated and will be removed in a future version. To retain the old behavior, explicitly call `result.infer_objects(copy=False)`. To opt-in to the future behavior, set `pd.set_option('future.no_silent_downcasting', True)`\n",
      "  df.loc[:, col] = df[col].replace(QUALITY_MAP).fillna(0).astype(int)\n",
      "C:\\Users\\Mohammed\\OneDrive\\Desktop\\ML Engineer\\house-price-prediction\\src\\preprocess.py:101: FutureWarning: Downcasting behavior in `replace` is deprecated and will be removed in a future version. To retain the old behavior, explicitly call `result.infer_objects(copy=False)`. To opt-in to the future behavior, set `pd.set_option('future.no_silent_downcasting', True)`\n",
      "  df.loc[:, col] = df[col].replace(QUALITY_MAP).fillna(0).astype(int)\n",
      "C:\\Users\\Mohammed\\OneDrive\\Desktop\\ML Engineer\\house-price-prediction\\src\\preprocess.py:101: FutureWarning: Downcasting behavior in `replace` is deprecated and will be removed in a future version. To retain the old behavior, explicitly call `result.infer_objects(copy=False)`. To opt-in to the future behavior, set `pd.set_option('future.no_silent_downcasting', True)`\n",
      "  df.loc[:, col] = df[col].replace(QUALITY_MAP).fillna(0).astype(int)\n",
      "C:\\Users\\Mohammed\\OneDrive\\Desktop\\ML Engineer\\house-price-prediction\\src\\preprocess.py:101: FutureWarning: Downcasting behavior in `replace` is deprecated and will be removed in a future version. To retain the old behavior, explicitly call `result.infer_objects(copy=False)`. To opt-in to the future behavior, set `pd.set_option('future.no_silent_downcasting', True)`\n",
      "  df.loc[:, col] = df[col].replace(QUALITY_MAP).fillna(0).astype(int)\n"
     ]
    }
   ],
   "source": [
    "from src.preprocess import clean_data\n",
    "\n",
    "df_train = pd.read_csv(os.path.join(RAW_DATA,\"train.csv\"))\n",
    "df_test  = pd.read_csv(os.path.join(RAW_DATA,\"test.csv\"))\n",
    "\n",
    "result = clean_data(df_train, df_test, drop_threshold=0.5)\n",
    "print(\"Dropped:\", result[\"dropped_columns\"])\n",
    "print(\"Missing after (train):\", result[\"missing_after_train\"])\n",
    "print(\"Missing after (test):\", result[\"missing_after_test\"])\n",
    "# if zero, save cleaned csvs\n",
    "if result[\"missing_after_train\"] == 0 and result[\"missing_after_test\"] == 0:\n",
    "    result[\"train\"].to_csv(\"../data/processed/train_clean.csv\", index=False)\n",
    "    result[\"test\"].to_csv(\"../data/processed/test_clean.csv\", index=False)\n",
    "    print(\"Saved processed files.\")\n",
    "\n",
    "df_train = result[\"train\"]   # overwrites raw\n",
    "df_test  = result[\"test\"]"
   ]
  },
  {
   "cell_type": "markdown",
   "id": "75a0f64e-770d-49f7-9301-9d09d50dbbce",
   "metadata": {},
   "source": [
    "Which columns are missing in test"
   ]
  },
  {
   "cell_type": "code",
   "execution_count": 9,
   "id": "e5310c24-cd17-45fb-b9b2-015166caf1b7",
   "metadata": {},
   "outputs": [
    {
     "name": "stdout",
     "output_type": "stream",
     "text": [
      "Missing columns in test (count):\n",
      "MSZoning       4\n",
      "Utilities      2\n",
      "Functional     2\n",
      "Exterior1st    1\n",
      "Exterior2nd    1\n",
      "SaleType       1\n",
      "dtype: int64\n"
     ]
    }
   ],
   "source": [
    "missing_test = df_test.isnull().sum()\n",
    "missing_test = missing_test[missing_test > 0].sort_values(ascending=False)\n",
    "print(\"Missing columns in test (count):\")\n",
    "print(missing_test)\n"
   ]
  },
  {
   "cell_type": "markdown",
   "id": "8ee84cb4-953b-453f-aacc-bdc3e78a42bd",
   "metadata": {},
   "source": [
    "Fill the specific categorical NaNs in test with train mode\n"
   ]
  },
  {
   "cell_type": "code",
   "execution_count": 10,
   "id": "0ff12832-3dcd-492d-bc43-e4d83ea5e839",
   "metadata": {},
   "outputs": [
    {
     "name": "stdout",
     "output_type": "stream",
     "text": [
      "Remaining missing in test after fix:\n",
      "Series([], dtype: int64)\n"
     ]
    }
   ],
   "source": [
    "fill_cols = [\"MSZoning\", \"Utilities\", \"Functional\", \"Exterior1st\", \"Exterior2nd\", \"SaleType\"]\n",
    "\n",
    "for c in fill_cols:\n",
    "    if c in df_test.columns:\n",
    "        mode_val = df_train[c].mode(dropna=True)[0]\n",
    "        df_test.loc[df_test[c].isnull(), c] = mode_val\n",
    "\n",
    "# Verify again\n",
    "print(\"Remaining missing in test after fix:\")\n",
    "print(df_test.isnull().sum()[df_test.isnull().sum() > 0])"
   ]
  },
  {
   "cell_type": "code",
   "execution_count": 11,
   "id": "ed8a0a8b-ba38-49d7-8ba7-9bb892d2e4f9",
   "metadata": {},
   "outputs": [
    {
     "name": "stdout",
     "output_type": "stream",
     "text": [
      "✅ Saved final cleaned files to data/processed/\n"
     ]
    }
   ],
   "source": [
    "df_train.to_csv(os.path.join(PROCESSED_DATA, \"train_clean.csv\"), index=False)\n",
    "df_test.to_csv(os.path.join(PROCESSED_DATA, \"test_clean.csv\"), index=False)\n",
    "\n",
    "print(\"✅ Saved final cleaned files to data/processed/\")"
   ]
  },
  {
   "cell_type": "markdown",
   "id": "7d362532-63b0-45c3-b25f-ba1ba239f36e",
   "metadata": {},
   "source": [
    "# Outlier removal & basic feature engineering"
   ]
  },
  {
   "cell_type": "code",
   "execution_count": 12,
   "id": "39e7fcce-1c04-4063-9bf0-3d9d44495ea0",
   "metadata": {},
   "outputs": [
    {
     "name": "stdout",
     "output_type": "stream",
     "text": [
      "Before outlier removal: (1460, 78)\n",
      "Outliers to drop (GrLivArea > 4000): 4\n"
     ]
    }
   ],
   "source": [
    "train_path = os.path.join(PROCESSED_DATA, \"train_clean.csv\")\n",
    "df = pd.read_csv(train_path)\n",
    "\n",
    "print(\"Before outlier removal:\", df.shape)\n",
    "\n",
    "# Conservative rule: common Kaggle practice removes extremely large living-area outliers\n",
    "outlier_mask = df[\"GrLivArea\"] > 4000\n",
    "print(\"Outliers to drop (GrLivArea > 4000):\", outlier_mask.sum())\n",
    "\n",
    "\n"
   ]
  },
  {
   "cell_type": "code",
   "execution_count": 13,
   "id": "b94b1cca-c72e-4da5-b1cb-7bd907f605de",
   "metadata": {},
   "outputs": [
    {
     "data": {
      "text/html": [
       "<div>\n",
       "<style scoped>\n",
       "    .dataframe tbody tr th:only-of-type {\n",
       "        vertical-align: middle;\n",
       "    }\n",
       "\n",
       "    .dataframe tbody tr th {\n",
       "        vertical-align: top;\n",
       "    }\n",
       "\n",
       "    .dataframe thead th {\n",
       "        text-align: right;\n",
       "    }\n",
       "</style>\n",
       "<table border=\"1\" class=\"dataframe\">\n",
       "  <thead>\n",
       "    <tr style=\"text-align: right;\">\n",
       "      <th></th>\n",
       "      <th>Id</th>\n",
       "      <th>GrLivArea</th>\n",
       "      <th>SalePrice</th>\n",
       "    </tr>\n",
       "  </thead>\n",
       "  <tbody>\n",
       "    <tr>\n",
       "      <th>523</th>\n",
       "      <td>524</td>\n",
       "      <td>4676</td>\n",
       "      <td>184750</td>\n",
       "    </tr>\n",
       "    <tr>\n",
       "      <th>691</th>\n",
       "      <td>692</td>\n",
       "      <td>4316</td>\n",
       "      <td>755000</td>\n",
       "    </tr>\n",
       "    <tr>\n",
       "      <th>1182</th>\n",
       "      <td>1183</td>\n",
       "      <td>4476</td>\n",
       "      <td>745000</td>\n",
       "    </tr>\n",
       "    <tr>\n",
       "      <th>1298</th>\n",
       "      <td>1299</td>\n",
       "      <td>5642</td>\n",
       "      <td>160000</td>\n",
       "    </tr>\n",
       "  </tbody>\n",
       "</table>\n",
       "</div>"
      ],
      "text/plain": [
       "        Id  GrLivArea  SalePrice\n",
       "523    524       4676     184750\n",
       "691    692       4316     755000\n",
       "1182  1183       4476     745000\n",
       "1298  1299       5642     160000"
      ]
     },
     "metadata": {},
     "output_type": "display_data"
    }
   ],
   "source": [
    "# Optionally inspect the rows:\n",
    "display(df.loc[outlier_mask, [\"Id\",\"GrLivArea\",\"SalePrice\"]])\n",
    "\n"
   ]
  },
  {
   "cell_type": "code",
   "execution_count": 14,
   "id": "4307862b-272a-4175-8729-dd34700e6107",
   "metadata": {},
   "outputs": [
    {
     "name": "stdout",
     "output_type": "stream",
     "text": [
      "After outlier removal: (1456, 78)\n"
     ]
    }
   ],
   "source": [
    "# Drop those outliers\n",
    "df = df.loc[~outlier_mask].reset_index(drop=True)\n",
    "print(\"After outlier removal:\", df.shape)\n",
    "\n"
   ]
  },
  {
   "cell_type": "code",
   "execution_count": 15,
   "id": "c92b819c-df50-4d76-b892-ee262e6bac95",
   "metadata": {},
   "outputs": [
    {
     "name": "stdout",
     "output_type": "stream",
     "text": [
      "Saved train_final.csv\n"
     ]
    }
   ],
   "source": [
    "# Basic engineered features (useful and safe):\n",
    "if {\"TotalBsmtSF\",\"1stFlrSF\",\"2ndFlrSF\"}.issubset(df.columns):\n",
    "    df[\"TotalSF\"] = df[\"TotalBsmtSF\"].fillna(0) + df[\"1stFlrSF\"].fillna(0) + df[\"2ndFlrSF\"].fillna(0)\n",
    "if \"YearBuilt\" in df.columns and \"YrSold\" in df.columns:\n",
    "    df[\"HouseAge\"] = df[\"YrSold\"] - df[\"YearBuilt\"]\n",
    "\n",
    "# Save final training file for modeling\n",
    "df.to_csv(os.path.join(PROCESSED_DATA, \"train_final.csv\"), index=False)\n",
    "print(\"Saved train_final.csv\")"
   ]
  }
 ],
 "metadata": {
  "kernelspec": {
   "display_name": "Python 3 (ipykernel)",
   "language": "python",
   "name": "python3"
  },
  "language_info": {
   "codemirror_mode": {
    "name": "ipython",
    "version": 3
   },
   "file_extension": ".py",
   "mimetype": "text/x-python",
   "name": "python",
   "nbconvert_exporter": "python",
   "pygments_lexer": "ipython3",
   "version": "3.11.5"
  }
 },
 "nbformat": 4,
 "nbformat_minor": 5
}
